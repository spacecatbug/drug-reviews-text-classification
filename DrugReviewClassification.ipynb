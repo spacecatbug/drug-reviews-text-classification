{
  "nbformat": 4,
  "nbformat_minor": 0,
  "metadata": {
    "colab": {
      "name": "DrugReviewClassification.ipynb",
      "provenance": [],
      "collapsed_sections": [],
      "mount_file_id": "1L0vAsRRFuh_Nc1yURJ5a7aMB3xYHiObm",
      "authorship_tag": "ABX9TyOqa3lcDyyLS9/4UkUVgiym"
    },
    "kernelspec": {
      "name": "python3",
      "display_name": "Python 3"
    }
  },
  "cells": [
    {
      "cell_type": "markdown",
      "metadata": {
        "id": "t9w1r7sT_6AV",
        "colab_type": "text"
      },
      "source": [
        "## Data Import\n",
        "\n",
        "Python libraries required: numpy, pandas and tensorflow"
      ]
    },
    {
      "cell_type": "code",
      "metadata": {
        "id": "-JOaQ9yV_31B",
        "colab_type": "code",
        "colab": {}
      },
      "source": [
        "import numpy as np\n",
        "import tensorflow as tf\n",
        "import pandas as pd\n",
        "\n",
        "!pip install tensorflow-hub\n",
        "!pip install tensorflow-datasets\n",
        "import tensorflow_hub as hub\n",
        "import tensorflow_datasets as tfds\n",
        "\n",
        "print(\"Version: \", tf.__version__)\n",
        "print(\"Eager mode: \", tf.executing_eagerly())\n",
        "print(\"Hub version: \", hub.__version__)\n",
        "print(\"GPU is\", \"available\" if tf.config.experimental.list_physical_devices(\"GPU\") else \"NOT AVAILABLE\")"
      ],
      "execution_count": null,
      "outputs": []
    },
    {
      "cell_type": "markdown",
      "metadata": {
        "id": "cAACYqeYAHJ3",
        "colab_type": "text"
      },
      "source": [
        "If working in Google Colab, use drive.mount() to enable imports from Google Drive"
      ]
    },
    {
      "cell_type": "code",
      "metadata": {
        "id": "3SOFbetdALK4",
        "colab_type": "code",
        "colab": {}
      },
      "source": [
        "from google.colab import drive\n",
        "drive.mount('/content/drive')"
      ],
      "execution_count": null,
      "outputs": []
    },
    {
      "cell_type": "markdown",
      "metadata": {
        "id": "qma0jQoRCRsy",
        "colab_type": "text"
      },
      "source": [
        "## Data preprocessing\n",
        "Load in test and training data files"
      ]
    },
    {
      "cell_type": "code",
      "metadata": {
        "id": "TCEyP7h2CQ_b",
        "colab_type": "code",
        "colab": {}
      },
      "source": [
        "train_file = '/content/drive/My Drive/drugLib_raw/drugLibTrain_raw.tsv'\n",
        "\n",
        "\n",
        "train_df = pd.read_csv(train_file,sep='\\t')"
      ],
      "execution_count": 8,
      "outputs": []
    },
    {
      "cell_type": "markdown",
      "metadata": {
        "id": "gt4XdBDJGbUt",
        "colab_type": "text"
      },
      "source": [
        "## Initial data inspection\n",
        "\n",
        "This dataset contains 8 columns column describing drug information, patient condition, the resultant treatment, effectiveness and patient reviews. \n",
        "\n",
        "In this text classification exercise the aim is to predict the `effectiveness` from this dataset. \n",
        "\n",
        "There are 3 columns of descriptive patient review data: `benefitsReview`, `sideEffectsReview` and `commentsReview`. \n",
        "\n",
        "The data in these columns will be used for the text classification to predict the `effectiveness`.\n",
        "\n",
        "This is a publically available dataset that can be found here along with a more comprehensive description of the data:\n",
        "https://archive.ics.uci.edu/ml/datasets/Drug+Review+Dataset+%28Druglib.com%29\n"
      ]
    },
    {
      "cell_type": "code",
      "metadata": {
        "id": "hWeY9FztHKBF",
        "colab_type": "code",
        "colab": {
          "base_uri": "https://localhost:8080/",
          "height": 310
        },
        "outputId": "c26ca569-290d-47fc-cfc8-16882f9eaa5b"
      },
      "source": [
        "train_df.head()"
      ],
      "execution_count": 193,
      "outputs": [
        {
          "output_type": "execute_result",
          "data": {
            "text/html": [
              "<div>\n",
              "<style scoped>\n",
              "    .dataframe tbody tr th:only-of-type {\n",
              "        vertical-align: middle;\n",
              "    }\n",
              "\n",
              "    .dataframe tbody tr th {\n",
              "        vertical-align: top;\n",
              "    }\n",
              "\n",
              "    .dataframe thead th {\n",
              "        text-align: right;\n",
              "    }\n",
              "</style>\n",
              "<table border=\"1\" class=\"dataframe\">\n",
              "  <thead>\n",
              "    <tr style=\"text-align: right;\">\n",
              "      <th></th>\n",
              "      <th>Unnamed: 0</th>\n",
              "      <th>urlDrugName</th>\n",
              "      <th>rating</th>\n",
              "      <th>effectiveness</th>\n",
              "      <th>sideEffects</th>\n",
              "      <th>condition</th>\n",
              "      <th>benefitsReview</th>\n",
              "      <th>sideEffectsReview</th>\n",
              "      <th>commentsReview</th>\n",
              "      <th>combinedReview</th>\n",
              "      <th>label</th>\n",
              "    </tr>\n",
              "  </thead>\n",
              "  <tbody>\n",
              "    <tr>\n",
              "      <th>0</th>\n",
              "      <td>1366</td>\n",
              "      <td>biaxin</td>\n",
              "      <td>9</td>\n",
              "      <td>Considerably Effective</td>\n",
              "      <td>Mild Side Effects</td>\n",
              "      <td>sinus infection</td>\n",
              "      <td>The antibiotic may have destroyed bacteria cau...</td>\n",
              "      <td>Some back pain, some nauseau.</td>\n",
              "      <td>Took the antibiotics for 14 days. Sinus infect...</td>\n",
              "      <td>The antibiotic may have destroyed bacteria cau...</td>\n",
              "      <td>1.0</td>\n",
              "    </tr>\n",
              "    <tr>\n",
              "      <th>1</th>\n",
              "      <td>3724</td>\n",
              "      <td>lamictal</td>\n",
              "      <td>9</td>\n",
              "      <td>Highly Effective</td>\n",
              "      <td>Mild Side Effects</td>\n",
              "      <td>bipolar disorder</td>\n",
              "      <td>Lamictal stabilized my serious mood swings. On...</td>\n",
              "      <td>Drowsiness, a bit of mental numbness. If you t...</td>\n",
              "      <td>Severe mood swings between hypomania and depre...</td>\n",
              "      <td>Lamictal stabilized my serious mood swings. On...</td>\n",
              "      <td>2.0</td>\n",
              "    </tr>\n",
              "    <tr>\n",
              "      <th>2</th>\n",
              "      <td>3824</td>\n",
              "      <td>depakene</td>\n",
              "      <td>4</td>\n",
              "      <td>Moderately Effective</td>\n",
              "      <td>Severe Side Effects</td>\n",
              "      <td>bipolar disorder</td>\n",
              "      <td>Initial benefits were comparable to the brand ...</td>\n",
              "      <td>Depakene has a very thin coating, which caused...</td>\n",
              "      <td>Depakote was prescribed to me by a Kaiser psyc...</td>\n",
              "      <td>Initial benefits were comparable to the brand ...</td>\n",
              "      <td>3.0</td>\n",
              "    </tr>\n",
              "    <tr>\n",
              "      <th>3</th>\n",
              "      <td>969</td>\n",
              "      <td>sarafem</td>\n",
              "      <td>10</td>\n",
              "      <td>Highly Effective</td>\n",
              "      <td>No Side Effects</td>\n",
              "      <td>bi-polar / anxiety</td>\n",
              "      <td>It controlls my mood swings. It helps me think...</td>\n",
              "      <td>I didnt really notice any side effects.</td>\n",
              "      <td>This drug may not be for everyone but its wond...</td>\n",
              "      <td>It controlls my mood swings. It helps me think...</td>\n",
              "      <td>2.0</td>\n",
              "    </tr>\n",
              "    <tr>\n",
              "      <th>4</th>\n",
              "      <td>696</td>\n",
              "      <td>accutane</td>\n",
              "      <td>10</td>\n",
              "      <td>Highly Effective</td>\n",
              "      <td>Mild Side Effects</td>\n",
              "      <td>nodular acne</td>\n",
              "      <td>Within one week of treatment superficial acne ...</td>\n",
              "      <td>Side effects included moderate to severe dry s...</td>\n",
              "      <td>Drug was taken in gelatin tablet at 0.5 mg per...</td>\n",
              "      <td>Within one week of treatment superficial acne ...</td>\n",
              "      <td>2.0</td>\n",
              "    </tr>\n",
              "  </tbody>\n",
              "</table>\n",
              "</div>"
            ],
            "text/plain": [
              "   Unnamed: 0  ... label\n",
              "0        1366  ...   1.0\n",
              "1        3724  ...   2.0\n",
              "2        3824  ...   3.0\n",
              "3         969  ...   2.0\n",
              "4         696  ...   2.0\n",
              "\n",
              "[5 rows x 11 columns]"
            ]
          },
          "metadata": {
            "tags": []
          },
          "execution_count": 193
        }
      ]
    },
    {
      "cell_type": "markdown",
      "metadata": {
        "id": "ai4AlIbmCxH3",
        "colab_type": "text"
      },
      "source": [
        "The train and test data is currently in tab delimited format and will be converted into Pandas Dataframes. \n",
        "\n",
        "An additional column `combinedReview` has been added which contains all the review data from the 3 columns, concatenated.\n",
        "\n",
        "Another additional column `label` has been included in these Dataframes that assigns classification labels `effectiveness` as integer values so that they can be read later by the model."
      ]
    },
    {
      "cell_type": "code",
      "metadata": {
        "id": "5E9mobvQCwxY",
        "colab_type": "code",
        "colab": {}
      },
      "source": [
        "test_file = '/content/drive/My Drive/drugLib_raw/drugLibTest_raw.tsv'\n",
        "labels_dict = {}\n",
        "for count,label in enumerate(train_df[\"effectiveness\"].unique()):\n",
        "  labels_dict[label] = count+1\n",
        "\n",
        "def tsv2df(filename):\n",
        "  df = pd.read_csv(filename,sep='\\t')\n",
        "  df[\"combinedReview\"] = np.nan\n",
        "  df[\"label\"] = np.nan\n",
        "  for row in df.itertuples():\n",
        "    drug_review = \"\"\n",
        "    benefitsReview = df.loc[row.Index,[\"benefitsReview\"]].values[0]\n",
        "    sideEffectsReview = df.loc[row.Index,[\"sideEffectsReview\"]].values[0]\n",
        "    commentsReview = df.loc[row.Index,[\"commentsReview\"]].values[0]\n",
        "    # concatenate review data from all 3 columns into a new column\n",
        "    reviews = [benefitsReview, sideEffectsReview,commentsReview]\n",
        "    for review in reviews:\n",
        "      if pd.isnull(review):\n",
        "        continue\n",
        "      drug_review += review +\" \"\n",
        "    if drug_review.strip() == \"\":\n",
        "      continue\n",
        "    df.loc[row.Index,[\"combinedReview\"]] = drug_review\n",
        "    # Use integers to define classification labels\n",
        "    df.loc[row.Index,[\"label\"]] = labels_dict[train_df.loc[row.Index,[\"effectiveness\"]].values[0]]\n",
        "  return df\n",
        "\n",
        "train_df = tsv2df(train_file)\n",
        "test_df = tsv2df(test_file)"
      ],
      "execution_count": 142,
      "outputs": []
    },
    {
      "cell_type": "markdown",
      "metadata": {
        "id": "dKiLnwJhkB4m",
        "colab_type": "text"
      },
      "source": [
        "Convert train and test dataframes into Tensorflow datasets. Split the full train dataset into validation and test sets"
      ]
    },
    {
      "cell_type": "code",
      "metadata": {
        "id": "HSalX_3gkHrE",
        "colab_type": "code",
        "colab": {}
      },
      "source": [
        "# A utility method to create a tf.data dataset from a Pandas Dataframe\n",
        "def df_to_dataset(dataframe, shuffle=True, batch_size=32):\n",
        "  dataframe = dataframe.copy()\n",
        "  labels = dataframe.pop('label')\n",
        "  ds = tf.data.Dataset.from_tensor_slices((dict(dataframe), labels))\n",
        "  if shuffle:\n",
        "    ds = ds.shuffle(buffer_size=len(dataframe))\n",
        "  ds = ds.batch(batch_size)\n",
        "  return ds\n",
        "\n",
        "full_train_tfds = df_to_dataset(train_df)\n",
        "test_tfds = df_to_dataset(test_df)\n",
        "\n",
        "full_train_tfds.shuffle(32)\n",
        "def is_val(x, y):\n",
        "    return x % 4 == 0\n",
        "\n",
        "def is_train(x, y):\n",
        "    return not is_val(x, y)\n",
        "\n",
        "recover = lambda x,y: y\n",
        "\n",
        "val_tfds = full_train_tfds.enumerate() \\\n",
        "                    .filter(is_val) \\\n",
        "                    .map(recover)\n",
        "\n",
        "train_tfds = full_train_tfds.enumerate() \\\n",
        "                    .filter(is_train) \\\n",
        "                    .map(recover)"
      ],
      "execution_count": 190,
      "outputs": []
    },
    {
      "cell_type": "markdown",
      "metadata": {
        "id": "Ez6vJCYclOem",
        "colab_type": "text"
      },
      "source": [
        "Print examples of the features and labels created in the Tensorflow Dataset for one batch of data"
      ]
    },
    {
      "cell_type": "code",
      "metadata": {
        "id": "EjdC89Ymk1e3",
        "colab_type": "code",
        "colab": {
          "base_uri": "https://localhost:8080/",
          "height": 698
        },
        "outputId": "e7f11259-450c-435f-9fae-c30e3ca4c642"
      },
      "source": [
        "for feature_batch, label_batch in train_tfds.take(1):\n",
        "  print('Every feature:', list(feature_batch.keys()))\n",
        "  print('A batch of combinedReviews:', feature_batch['combinedReview'])\n",
        "  print('A batch of targets:', label_batch )"
      ],
      "execution_count": 191,
      "outputs": [
        {
          "output_type": "stream",
          "text": [
            "Every feature: ['Unnamed: 0', 'urlDrugName', 'rating', 'effectiveness', 'sideEffects', 'condition', 'benefitsReview', 'sideEffectsReview', 'commentsReview', 'combinedReview']\n",
            "A batch of combinedReviews: tf.Tensor(\n",
            "[b'hopefully it got rid of many actinic keratoses permanently, but hard to say.  I think it made my skin look better, though. extremely red, irritated, sore skin, extreme sun sentitivity.  One are even blistered, eventually so badly that my dr. said stop using it. applied to face and chest sparingly daily after washing.\\r\\r\\nMy face and chest both became very red, and my face especially got so bad it looked like hamburger meat.  My chest had many small red spots.  One area under my eye blistered and then became infected.  I did not even want to see sunlight, I became so sun sensitive. After I stopped using the medication it took at least a week to feel anything like normal.  a horrible experience.  but I do think it made my skin look better. '\n",
            " b'I had the drug initally offered to me by my dermatologist in sample tube years ago.  I found it very effective, despite only dabbing on the smallest amount due to only having small sample tube.  Yet despite quick clear-ups...I would occasionally have recurrances under my nose with the rash.  I have struggled with this rash for over 20 years.  With the last outbreak, while having minimal amounts left in the sample tube, I went in to my dermatologist and got a full prescription in about June of 2009.  Not only was I able to use a bit more in application this time, but it obviously was not an expired product.  I found the long-term rash hsf completely cleared up within less than a week.  While this was not new to me with this product, the fact that I have had no recurrance whatsoever in over four months is the great news. Absolutely none After washing my face with my long-term personal choice of face wash (Alpha Hydrox foaming face wash) and using a Strident sensitive skin cleaning pad, I would apply the Noritate cream sparingly over the rash under my nose at night.  (Note:  I did not use the tetracycline during this time, as I knew it was not an acne-related outbreak.) '\n",
            " b'Highly effective for sleeping. Slept for 3 days. Very disoriented and groggy! not exactly what I had in mind. I wake up during the night at 2 or 3 or 4 am\\r\\r\\nand am unable to go back to sleep, I wanted the ability to sleep through the night. But I did not want to sleep for 3 days!\\r\\r\\nI think maybe the initial dose was too high. I only took one tablet and never took another one. '\n",
            " b'feel better overall, not felling dizzy and able to drive safely , frequent headaches are gone, able to concentrate on work and family, better vision at night time weight gain, moodiness, feel tired all the time, can not operate the car i have to take one pill a day for six weeks '\n",
            " b\"It helped with the dizziness only because it made me so sleepy I couldn't stay up to notice the dizziness! Sometimes it would make my heart race so fast I wouldn't be able to sleep at night. This happened about 1 out of ever 5 times I took it. It had sedative effects so it just made me want to sleep. It wouldn't have been good for me at treating my dizzy spells while I was at work or in the middle of running errands because I would get much too tired to function safely. \"\n",
            " b'Decreased crying and depression.  Decreased anxiety.  Got rid of insomnia. 20mg - Mild nausea, stomach aches.  Dry mouth.  It made me very, very tired, so I take it before bed and sleep wonderfully. With 40mg dosage - increased sweating, faintness, nearly passing out. I started with the 20mg dosage and it seemed to be working pretty well until about a month in when I had a bad anxiety attack.  After seeing the doctor, she upped me to 40mg.  After one dosage of 40mg, I nearly passed out twice and started profusely sweating.  My hearing also went all funny.  The doctor advised me to drop back down to 20mg and then try to go back up to the 40mg.  Emotionally, I felt better after the 40mg, even after nearly fainting, but the side effects were very bad. '\n",
            " b\"Overall, the benefits have been very good.  A rescue inhaler hasn't been used in more than a year, nor has there been a severe asthma attack.  During the period there may have been three incidences where it seemed like an attack was coming on (curing exertion and cold, damp weather) but simply a better environment and a couple of cups of coffee warded it off.  There are times of wheezy, heavy-chestedness, but these are minimal in comparison to prior to taking Advair. Wallet shock.  Patient seems to overall fall asleep easier, but tends to have some problems getting a deep sleep, but this may or may not be related to the Advair.  Other than that, there do not seem to be any adverse side effects  -- casually or medically -- after about 1-1/2 years of taking the medication. The patient developed asthma four years ago.  It was controlled on an 'attack' basis, generally with an OTC inhaler.  When most OTC inhalers were taken off the market prior to reformulation, and a severe asthma attack, a prescription inhaler was prescribed, but it was being used more often than should, and did not alleviate the problems.  After a thorough examination, the doctor prescribed Advair, as directed with two puffs/inhales daily, morning and evening (at least 8 hours apart).  The patient is examined/tested every three months prior to refilling prescription to ensure there are no side-effects or adverse reactions. \"\n",
            " b'Benefits of Protonix were a greatly reduced incidence of heartburn and spams in the esophagus. None I took the Protonix once a day approxiamtely 30 minutes before eating breakfast. '\n",
            " b\"None I became increasingly agitated and angry. After being on it for 2 months, I tried to commit suicide. I had been taking Effexor, Welbutrin and Ritalin for over three years. The combination worked better then any other cocktail I'd taken.  I complaine3d to Doctor that I was feeling lethargic so he switched me to Emsam. After a month he increased the dose. I attempted suicide. Found a new doctor..  Now taking cymbalta and welbutrin. Which seem to be working OK but they ain't no miracle drug. \"\n",
            " b'None. I only took them for a couple of days, but had to stop because of the side-effects. The biggest side-effect was that it made me experience shock-waves through my head and sometimes even my body, just like if someone would have turned on and off a lamp very quickly. That side-effect ended the same time I stopped taking Seroquel. The other one was that everything started to smell and taste very bad. It\\xef\\xbf\\xbds hard to explain exactly how, but it was a mix of vodka and mould. After I stopped taking the medication it took 2 weeks for the taste/smell-problem to disapear. I was prescribed with Seroquel after I was released from hospital after a period of deep depression to help me to sleep better and stop me from becoming hypomanic. '\n",
            " b\"Nexium does help in controlling reflux, but I haven't gone without it in so long that I don't know how my reflux would do on its own.  It isn't a complete fix.  I can't blame the drug for this, but it doesn't help at all if I drink caffeine. No known side effect I take it once daily on an empty stomach.  I sometimes take an additional dose at night if I'm having problems, but that doesn't seem to do my any good. \"\n",
            " b'The benefits of this treatment was there was a decreased amount of bowel movements per day. Also severe cramping and urgency to empty the bowel was decreased by 50% and meals could be enjoyed, even when out in public places where a washroom might not be available. Somtimes constipation would occur, and there would be a tight, bloating feeling in the lower abdomen. Treatment was to take this medication one half an hour before eating a meal. Powder was to be mixed in water or other fluid except carbonated beverages. Medication was to be taken for one month to see if there was an improvement in the symptoms of constant diareah after meals. '\n",
            " b'It was completely effective against pregnancy.\\r\\r\\nOne other good effect was my periods became very regular. Too many bad side effects made this drug intolerable. Here is the list:\\r\\r\\n(1) severe mood swings, ranging from depression to hyperactive and happy states; \\r\\r\\n(2) my appetite increased to a point where I was overeating; \\r\\r\\n(3) my breasts were often sore/painful; \\r\\r\\n(4) I had nightly dreams (nightmares) and had difficulty sleeping; \\r\\r\\n(5) It did not clear my skin of pimples like my doctor said it would... One active tablet administered daily from the 1st day through the 21st day of the menstrual cycle, counting the first day of menstrual flow as \"Day 1\" followed by one green inactive tablet daily for 7 days. Tablets are taken without interruption for 28 days. After 28 tablets have been taken, a new course is started the next day.\\r\\r\\n\\r\\r\\nNOTE: in addition to 0.180 mg - 0.250 mg norgestimate each pill also contains 0.035 mg ethinyl estradiol '\n",
            " b'None. I was found after taking the drug, 2 miles away from my home by the police department. I have no recollection of what happened. I do not know when I left the house & started walking, but we suspect around 6 am. I was totally incoherent, dilusional, confused & had no idea where I was at. I was in my night clothes & barefoot even. Taken to ER & given 2 lites of Normal Saline IV. I then became rational. I was unable to even name the president! '\n",
            " b\"Very effective in my sleep pattern Drowsiness which was not a major issue for me. phase of depression each time i stopped taking the pill. I didn't realize what was causing it until after the last couple of times. I mean a serious phase of depression which was new to me since i have never experienced depression before I took the pill only when i had a migrane for a period of 3 months. I would be okay before and while i took the pill. The low mood, feelings of unworthiness and a heavy feeling in my head that i can't explain any better \"\n",
            " b'Vytorin was prescribed to me to lower my cholesterol. I did not take the product long enought to see a significant drop in my cholesterol levels as I discontinuted treatment. I developed diarrea after taking the ver first dose. I took it for about a week with no decrease in this side effect. I stopped taking it for 2 days and noticed relief instantly. I then began taking it again and side effects returned. Vytorin was prescribed by my doctor for me for my high cholesterol. I took it for about a month and did not like the side effects. From the day that I began taking Vytorin I had diarrea. At first I thought it was purely coincidental until I stopped taking it for a few days. The side effects vanished. I took it again and they returned. I told my doctor about this and they switched me to Pravastatin ( same dosage) and the same side effects occurred. I then stopped taking the prescription. '\n",
            " b'Tramadol decreases the severity of pain associated with neck movement. It is not an opiate however it does provide pain relief (for me) along the lines of a mild narcotic without the \"euphoric\" or mind numbing effects. It allows me greater latitude of neck movement. It is very evident to me when the medication is wearing off as I can no longer turn my neck more than approximately 25 degrees. This drug has been a lifesaver for me and can sometimes even head off my milder migraines. I\\'ve personally experienced no side effects other than an occasional jerky type feeling in my movements. I have heard from others that this medication, although non narcotic can be difficult to cease due to withdrawal symptoms. Personally I have  had no problem with this. This medication has been known to cause seizures and is not to be taken by anyone who has experienced a seizure. I take two 50 mg. tablets as needed up to three times a day. '\n",
            " b'Helped relieve anxiety Dizziness, moodiness, anger and agitation At first the medication seemed to work wonders in a very short period of time (a few days).  After about a week I began to get extremely moody - crying a lot, getting very angry and agitated.  It appeared that once the medication started building up in my system the side effects became worse and worse.  It was not worth it and I quit the medication within a few weeks. '\n",
            " b\"This drug did work at alleviating the anxiety for which it was prescribed. My God, I'm amazed that this drug is still on the market. I'm actually an MD, and was prescribed this drug for anxiety and panic attacks. I know to give a drug about a month to work, but I lasted all of 3 days on this!! Started with a 75 mg dose, immediately fell asleep for 4 hours, woke up feeling so out of it that I could barely string a sentence together, spent the next day feeling nauseous, hot, sweaty, jittery and weak. Got leg spasms that night and woke up 12 hours post-ingestion having a rebound panic attack. When morning finally arrived, I had the kind of hangover headache that you get when you're in college and have spent the night parting and binge drinking, but without any of the fun. The next day, upon advice from my psychiatrist, I dropped the dose right down to 25 mg, with no change in side effects. 3rd day I tried only 6.25 mg (quarter of a 25 mg pill), and still felt nauseous, hot, dizzy and weak...and fell asleep for two hours. This is now day 6 and I'm finally recovering from my 3 day trip to hell with Effexor. Left a 5 min message on my psychiatrist's machine - will not be taking this crap anymore!! Will not EVER be prescribing this to any of my patients. 75 mg per day starting dose for anxiety and panic attacks. \"\n",
            " b'The drug was taken for my daily anxiety caused by stress and also insomnia to help relax my body before bed. The drug is mainly intended for anxiety and works great at relieving those systems such as irregular heart beat, nervousness and other anxiety causing symptoms. I give it a 9 out of 10 for its performance. The only thing i didnt like about this drug is that with taking it overtime I felt as if my body built tolerance to the drug as well as became more dependent on it. I still am until this day and have managed to ween off the drug. Then again every ones body is different, Just do your research before taking benzodiazepines long term. The treatment overall treated my anxiety quickly and effectively. No regrets. The drug overall has treated me effectively despite the minor drawbacks. '\n",
            " b'My cholesterol levels were very high.  Te plan was to take Lipitor for one month and then see if the levels were lower. No benefits were identified because I could not take take  the medicine long enough to get a second  cholesterol test to measure for measuring any decrease in my cholesterol levels.  After having side effects, I did try to lower the dosage to 10m by cutting the pills in half, but still felt the bad effects. At first, I did not associate my increasing tiredness and general lack of energy with the medicine. I just thought I was getting sick with a virus. Then, as time went on, I started to also experience muscle soreness and tightness.  By the time I started to think the way I was feeling might be related to the Lipitor, I realized, besides the physical symptoms,  I was in a state of depression.  As soon as I quit taking the pills, all the bad symptoms cleared.  A few days later, I tried taking less (half), but, again started feeling bad. As previously stated, because my cholesterol levels were high, the doctor said I should take Lipitor for one month and then we would retest the cholesterol levels to see if the medicine was effective in lowering the levels. But, because I was unable to take the Lipitor for the entire month, the  second  cholesterol test was never taken.  After taking the Lipitor for about 10 days, I stopped taking it.  A few days later, I did try to take just half a pill.  But within days, the side effects started to return. '\n",
            " b\"I now lost 6 kg during 3 months and I can now wear my favorite dress without any hassles. I always experiencing oily bowel movement. I starved too much. For the last 3 months that I intake Xenical, I feel the loose of my body, Even though I had this kind of side effects but I have to sacrifice just for my own sake. It's worth it! I love my body now! thanks to Xenical. \"\n",
            " b\"It seemed to help with the joint inflamation. Some swelling of ankles was reduced and I didn't seem as achey. I tried several sample medications first like celebrex but I liked the Mobic best. I have not gone off of it since I started to really know if it makes a difference. none Took one 30mg tab a day. \"\n",
            " b'With less Dexedrine and minimal Depekote, I was able to sleep deeply when I finally did fall asleep. I also remember extremely vivid dreams. The house was kept super clean and I was motivated to finish tasks. Horrible feeling. My heart felt like it would explode. I had horrible tic like behavior. I picked at my skin until permanently damaged. I had horrible dry mouth and I had bad breath. My sister was diagnosed with ADHD and so was my brother (Both were much younger 11 and 7 years younger) Both suffered from learning disabilities. I drove my sister to an appointment and due to my family history I was asked to take a questionair. I was then told that while I was not learning disabled (A Student), I was hyper and did I want to try the above drugs. They said I would never know how bad off I was until I knew what it felt like to be normal. I was given two perscriptions and was told to start with one dose of the dexedrine in the am and to take the Depekote and dexedrine in the afternoon. If that didn\\'t do it they would up my dexedrine. With in about two months I felt like jumping from my skin and decided that organization was not that worth it. My skin still shows the scarring from all the picking and squeezing but my tone is no longer \"death warmed over\".\\r\\r\\nPS the doctor that prescribed this to me was investigated, tried and convicted of over prescribing, drug dealing and improper relationships with patients. (I can\\'t remember the exact charges but he did get about 16 years for dealing controlled substances and was turned in by two female patients who said that he took advantage of their situation and slept with them.) '\n",
            " b'None.  I was told it would take 6 weeks for the medicine to accumulate and become completely effective.  It did not produce any results that were apparent.  Not in inflammation reduction or in pain reduction due to the inflammation were any results ascertainable.  I suffered while waiting for this medication to do anything.  Further, you are told to consume food to protect the lining of your stomach from this medication.  Not always something you want to do when you are experiencing a lot of pain because pain can make you feel like vomiting. Stomach issues, burning  The more adverse affect was the constant pain due to the continuing inflammation with the added and increasing reduction in movement, and muscle usage.  Worst, was the waste of time.  Another med could have been prescribed in the time I used this medicine that would have been more effective and time healing would not have been wasted.  In fact, another anti-inflammatory was prescribed that provided immediate benefits (30 minutes) without the build-up in your system that the M.D. and pharmacist said Naprosyn requires before it becomes effective. Tried various dosages from the lowest, to more frequency.  It simply had little affect on inflammation or pain.  No other pain medication was added to this treatment and no other medication was given.  I had a car accident and suffered whiplash, thoracic muscle strain, herniation of entire lumbar region, etc.  Inflammation was rampant from hip level up.  Any relief would have been noted and appreciated.  Another drug was later prescribed, another anti-inflammatory, which proved just how much the naprosyn did not work.  I had immediate pain relief in 30 minutes and notable inflammation reduction very quickly.  In fact, after a 3 week loading of this drug, I was able to get out of bed, move around, and be functional!  The Doctor insisted on trying this level, Naprosyn, first and then changed after 6 weeks, to supposedly stronger medication in some kind of protocol progression.  I now tell my doctors which medication works and refuse anything else.  They waste time on ineffective medications allowing suffering.  I saw the doctors within the 6 week period declaring and their noting how ineffective this medication was. '\n",
            " b'great focus, mental clarity, helped me wake up, made me care about doing things and getting things finished, improved my mood. i started eating better for me (when i did eat), and it made me check my blood glucose levels more (so improved my health). didn\\'t eat as much, was a little emotionally cold sometimes. after psychological testing, was put on Adderall XR (I have known I was ADHD and needed medication for a long time, actually). i have nothing but good things to say about it. makes me feel \"normal\" for once. i finally am in control of things. also, after going on Adderall XR, I have been able to go off my Cymbalta (neither my doctor or I have figured out why this is... but it is!) '\n",
            " b\"I took Celexa for approximately 6 months and I found it to be totally ineffective. This was not surprising considering I have taken several other psychotropic (SSRI's) drugs, with the same ineffectiveness. I'm finally thinking mabye I don't have a serotonin deficiency, and mabye there are other issues. Going back to dr. to see if there may be another course of action. sexual side effects, yawning, dry mouth 40mg. daily for 6 months. \"\n",
            " b'The decrease in aniety greatly increased the quality of life for the patient. Some delayed sexual function, although not severe.  Some muscle jerks and twitches. Two attempts were made to discontinue use, but both times the uncontrollable anxiety returned.  After the first attempt, the med was restarted and symptom relief was restored.  The patient has just increased the dosage back to 20 mg after having weened down to 5 mg and is hoping that symptoms will subside once again.  If efficacy returns the patient desires to remain on the med indefinitely. '\n",
            " b'Effective in reducing hypertension from previous approximately 170/85 to less than 150/65 and now even less at approximately 130/65 Side effected included sleepiness, and unaccountably nausea while sailing. Prior to taking this drug I had never had problems with \"seasickness\" while sailing. I found I had to stay topside during sailing times.  Other than that, the tiredness was a factor which became less noticeable with time.  The seasickness would not be a problem for the majority of people, I am sure Treatment was 1 pill per day for approximately 3 years (25 mg) which I am told is a quite low dose for this medication.  However my weight is 100 lbs on average and small build so for me it was more than enough.  It helped my hypertension come back to within normal range which I was pleased with.  If I needed to go back on an antihypertensive, I would try it again '\n",
            " b'Periods became lighter and more regular, acne lessened as well. None. I took the pill every morning for five years. '\n",
            " b'It reduced 90% the swelling in the face over 2 days. On the 3rd morning, I did not take prednisolone but went back to see the doctor as I was afraid of side effects. The doctor agreed that it was ok to stop taking the medication. None occurred while I took the medication for 2 mornings. However, it is known that prednisolone may cause osteoporosis, pigmentation, etc in the long run. I was prescribed 30mg of prednisolone (6 tablets of 5mg each) every morning for 4 mornings. However, after taking 30mg for 2 mornings, the swelling in the face reduced by about 90%. On the 3rd morning, I did not take prednisolone but went back to see the doctor as I was afraid of side effects. The doctor agreed that it was ok to stop taking the medication. '\n",
            " b'Initially, I was started on Niaspan 500 milligrams two times a day to lower my trigylcerides.  My level was over two thousand.  After three months, I went back to my primary care physician for follow-up blood work to check how I am responding to the treatment.  My trigyceride levels improved significantly but was not within normal limits. My triglyceride level was 503. The side effect I experienced was moderate enough for me to contact my physician to ask for it to be changed.  My doctor told me to increase the dosage of Niaspan ER to two thousand milligrams every night.  For the first few days, I felt hot during the night and sweaty.  It was very uncomfortable, even if I had the airconditioning on.  After several days, I started having muscle pains on both my legs.  I was losing sleep becasue I was so uncomfortable and could no longer tolerate taking the medicine.  My physician then gave me the option of trying a new medication, or sticking to Niaspan ER but at a reduced dose.  I chose to stay with the same drug but at a reduced dose.  I now taker 1500 milligrams daily and do not feel any side effects.  I still need to go back to my doctor to see how this change affected my Triglycerides. Niaspan ER 500mg twice a day was changed to Niaspan ER 2,000 mg every night, then changed to Niaspan ER 1500 mg every night. '], shape=(32,), dtype=string)\n",
            "A batch of targets: tf.Tensor(\n",
            "[3. 2. 4. 1. 3. 3. 2. 1. 5. 5. 1. 1. 2. 5. 3. 3. 1. 3. 3. 2. 5. 3. 3. 5.\n",
            " 5. 1. 5. 1. 3. 2. 1. 3.], shape=(32,), dtype=float64)\n"
          ],
          "name": "stdout"
        }
      ]
    },
    {
      "cell_type": "markdown",
      "metadata": {
        "id": "bQw9JUedmfnV",
        "colab_type": "text"
      },
      "source": [
        "## Build the model\n",
        "\n",
        "Creating a Keras layer using a pre-trained model from TensorFlow Hub to convert the `combined reviews` into embeddings. The embedding converts each `combined review` into a 20 dimension array (despite the length and contents of the review). An example of a sentence embedding is printed here."
      ]
    },
    {
      "cell_type": "code",
      "metadata": {
        "id": "m5wE_3UiJtc4",
        "colab_type": "code",
        "colab": {
          "base_uri": "https://localhost:8080/",
          "height": 1000
        },
        "outputId": "ef5e728a-bab4-4fe9-fd78-a2071d926fce"
      },
      "source": [
        "embedding = \"https://tfhub.dev/google/tf2-preview/gnews-swivel-20dim/1\"\n",
        "hub_layer = hub.KerasLayer(embedding, input_shape=[], \n",
        "                           dtype=tf.string, trainable=True)\n",
        "hub_layer(feature_batch['combinedReview'])\n"
      ],
      "execution_count": 192,
      "outputs": [
        {
          "output_type": "stream",
          "text": [
            "WARNING:tensorflow:11 out of the last 11 calls to <function recreate_function.<locals>.restored_function_body at 0x7fd9275e30d0> triggered tf.function retracing. Tracing is expensive and the excessive number of tracings could be due to (1) creating @tf.function repeatedly in a loop, (2) passing tensors with different shapes, (3) passing Python objects instead of tensors. For (1), please define your @tf.function outside of the loop. For (2), @tf.function has experimental_relax_shapes=True option that relaxes argument shapes that can avoid unnecessary retracing. For (3), please refer to https://www.tensorflow.org/tutorials/customization/performance#python_or_tensor_args and https://www.tensorflow.org/api_docs/python/tf/function for  more details.\n"
          ],
          "name": "stdout"
        },
        {
          "output_type": "stream",
          "text": [
            "WARNING:tensorflow:11 out of the last 11 calls to <function recreate_function.<locals>.restored_function_body at 0x7fd9275e30d0> triggered tf.function retracing. Tracing is expensive and the excessive number of tracings could be due to (1) creating @tf.function repeatedly in a loop, (2) passing tensors with different shapes, (3) passing Python objects instead of tensors. For (1), please define your @tf.function outside of the loop. For (2), @tf.function has experimental_relax_shapes=True option that relaxes argument shapes that can avoid unnecessary retracing. For (3), please refer to https://www.tensorflow.org/tutorials/customization/performance#python_or_tensor_args and https://www.tensorflow.org/api_docs/python/tf/function for  more details.\n"
          ],
          "name": "stderr"
        },
        {
          "output_type": "stream",
          "text": [
            "WARNING:tensorflow:11 out of the last 11 calls to <function recreate_function.<locals>.restored_function_body at 0x7fd9275e3048> triggered tf.function retracing. Tracing is expensive and the excessive number of tracings could be due to (1) creating @tf.function repeatedly in a loop, (2) passing tensors with different shapes, (3) passing Python objects instead of tensors. For (1), please define your @tf.function outside of the loop. For (2), @tf.function has experimental_relax_shapes=True option that relaxes argument shapes that can avoid unnecessary retracing. For (3), please refer to https://www.tensorflow.org/tutorials/customization/performance#python_or_tensor_args and https://www.tensorflow.org/api_docs/python/tf/function for  more details.\n"
          ],
          "name": "stdout"
        },
        {
          "output_type": "stream",
          "text": [
            "WARNING:tensorflow:11 out of the last 11 calls to <function recreate_function.<locals>.restored_function_body at 0x7fd9275e3048> triggered tf.function retracing. Tracing is expensive and the excessive number of tracings could be due to (1) creating @tf.function repeatedly in a loop, (2) passing tensors with different shapes, (3) passing Python objects instead of tensors. For (1), please define your @tf.function outside of the loop. For (2), @tf.function has experimental_relax_shapes=True option that relaxes argument shapes that can avoid unnecessary retracing. For (3), please refer to https://www.tensorflow.org/tutorials/customization/performance#python_or_tensor_args and https://www.tensorflow.org/api_docs/python/tf/function for  more details.\n"
          ],
          "name": "stderr"
        },
        {
          "output_type": "stream",
          "text": [
            "WARNING:tensorflow:11 out of the last 11 calls to <function recreate_function.<locals>.restored_function_body at 0x7fd927b326a8> triggered tf.function retracing. Tracing is expensive and the excessive number of tracings could be due to (1) creating @tf.function repeatedly in a loop, (2) passing tensors with different shapes, (3) passing Python objects instead of tensors. For (1), please define your @tf.function outside of the loop. For (2), @tf.function has experimental_relax_shapes=True option that relaxes argument shapes that can avoid unnecessary retracing. For (3), please refer to https://www.tensorflow.org/tutorials/customization/performance#python_or_tensor_args and https://www.tensorflow.org/api_docs/python/tf/function for  more details.\n"
          ],
          "name": "stdout"
        },
        {
          "output_type": "stream",
          "text": [
            "WARNING:tensorflow:11 out of the last 11 calls to <function recreate_function.<locals>.restored_function_body at 0x7fd927b326a8> triggered tf.function retracing. Tracing is expensive and the excessive number of tracings could be due to (1) creating @tf.function repeatedly in a loop, (2) passing tensors with different shapes, (3) passing Python objects instead of tensors. For (1), please define your @tf.function outside of the loop. For (2), @tf.function has experimental_relax_shapes=True option that relaxes argument shapes that can avoid unnecessary retracing. For (3), please refer to https://www.tensorflow.org/tutorials/customization/performance#python_or_tensor_args and https://www.tensorflow.org/api_docs/python/tf/function for  more details.\n"
          ],
          "name": "stderr"
        },
        {
          "output_type": "execute_result",
          "data": {
            "text/plain": [
              "<tf.Tensor: shape=(32, 20), dtype=float32, numpy=\n",
              "array([[ 3.9738226e+00, -2.4324079e+00,  1.7600758e+00,  1.7758725e+00,\n",
              "        -4.5065479e+00, -4.8331442e+00, -3.5563126e+00,  4.7850399e+00,\n",
              "         4.1965022e+00, -4.4630170e-01, -3.0088549e+00,  4.2805190e+00,\n",
              "         5.3966677e-01,  6.3276678e-01, -6.8633709e+00,  2.5921571e+00,\n",
              "         5.5554719e+00, -3.1780574e+00, -3.8864355e+00, -2.6467786e+00],\n",
              "       [ 1.4556601e+00, -3.1163123e+00,  1.3854650e+00,  3.3566864e+00,\n",
              "        -2.7628114e+00, -5.6260099e+00, -2.8628104e+00,  1.5456353e+00,\n",
              "         2.9285228e+00, -2.2720861e+00, -2.0668263e+00,  3.6609945e+00,\n",
              "        -6.9249988e-01,  9.5874345e-01, -5.4075089e+00,  4.2332134e+00,\n",
              "         4.8444462e+00, -5.2988563e+00, -3.7034645e+00, -2.0701509e+00],\n",
              "       [-4.6892673e-01, -2.7633059e+00,  1.2941728e+00,  1.5910777e+00,\n",
              "        -2.8991969e+00, -4.3769245e+00, -2.9113646e+00,  1.0233142e+00,\n",
              "         1.1148010e+00,  8.9677137e-01, -3.4339435e+00,  2.1859062e+00,\n",
              "         1.5424255e+00,  6.7968619e-01, -4.4735727e+00,  2.2776215e+00,\n",
              "         3.4041550e+00, -2.3581924e+00, -1.6289517e+00, -7.6499313e-01],\n",
              "       [ 1.2379225e+00, -2.1349885e+00,  1.3097926e+00,  1.3043079e+00,\n",
              "        -1.4889227e+00, -3.9517305e+00, -1.1146765e+00,  8.6092299e-01,\n",
              "        -5.8554327e-01, -2.2766337e-01, -1.2447085e+00,  2.6035907e+00,\n",
              "        -1.4168949e-01,  5.7801956e-01, -4.5314231e+00,  1.8706878e+00,\n",
              "         4.6507206e+00, -2.0325663e+00, -1.2782514e+00, -7.6829743e-01],\n",
              "       [ 1.2131963e+00, -3.3079269e+00,  2.4848936e+00,  1.3105721e+00,\n",
              "        -4.4493818e+00, -5.4510012e+00, -3.6621585e+00,  2.0955842e+00,\n",
              "         1.8820653e+00,  1.4253315e+00, -2.9754562e+00,  2.6613486e+00,\n",
              "         1.4686556e+00,  7.4245268e-01, -5.2256317e+00,  2.5589046e+00,\n",
              "         5.3588643e+00, -2.3417246e+00, -2.0465453e+00, -1.3438300e+00],\n",
              "       [ 1.3755199e+00, -2.9934423e+00,  1.2970945e+00,  6.7842621e-01,\n",
              "        -2.4729860e+00, -4.0893898e+00, -3.3619545e+00,  3.2842324e+00,\n",
              "         3.2216120e+00,  3.6083230e-01, -3.1157317e+00,  3.0008879e+00,\n",
              "         1.2904327e+00,  1.3749115e-03, -5.0106478e+00,  3.4324315e+00,\n",
              "         4.5449057e+00, -3.5749738e+00, -3.1406441e+00, -9.3072981e-01],\n",
              "       [ 1.8955001e+00, -2.3887680e+00,  2.0279059e+00,  3.4799700e+00,\n",
              "         2.9800010e-01, -7.4093385e+00, -1.7376356e+00,  1.2630557e+00,\n",
              "         1.9732649e+00, -1.9994006e+00,  1.4297171e+00,  4.2136559e+00,\n",
              "        -1.6145496e+00,  8.2686746e-01, -5.7143254e+00,  4.1291599e+00,\n",
              "         3.6472254e+00, -4.9546838e+00, -2.0800860e+00, -2.0763180e+00],\n",
              "       [-1.2370881e-01,  1.3873965e-01, -9.3635541e-01,  2.7817848e-01,\n",
              "         2.5600678e-01, -1.6647607e+00, -1.1060187e+00, -2.6167044e-02,\n",
              "         4.1830993e-01, -1.7504430e-01, -4.6481395e-01,  1.6829646e+00,\n",
              "        -5.7117897e-01, -1.3797145e-01, -1.6800237e+00,  9.1786426e-01,\n",
              "         5.7648641e-01, -1.5660472e+00, -7.7026159e-01, -8.3583698e-02],\n",
              "       [-1.2133669e-01, -3.6709836e+00,  9.1426778e-01,  1.3795424e+00,\n",
              "        -2.0696249e+00, -3.7786727e+00, -1.7641484e+00,  1.5145004e+00,\n",
              "         3.0956209e+00,  1.1009868e+00, -1.5905672e+00,  6.5401363e-01,\n",
              "        -3.4495398e-01,  9.2667872e-01, -4.3903489e+00,  2.6982553e+00,\n",
              "         3.0676684e+00, -2.6203849e+00, -1.6993401e+00, -1.1931007e+00],\n",
              "       [ 1.8262012e+00, -2.5782125e+00,  2.0619695e+00,  1.4501224e+00,\n",
              "        -2.4504633e+00, -4.5331964e+00, -2.9027691e+00,  3.1212156e+00,\n",
              "         3.4983633e+00, -4.6498525e-01, -3.0125134e+00,  3.3783026e+00,\n",
              "         1.8021044e-01,  1.7013666e-01, -5.5171051e+00,  3.4811420e+00,\n",
              "         4.8872023e+00, -3.4333727e+00, -3.9334185e+00, -1.3711727e+00],\n",
              "       [ 1.3671091e+00, -2.2690105e+00,  2.7125521e+00,  2.7598886e+00,\n",
              "        -3.9920242e+00, -5.7102957e+00, -3.3994422e+00,  2.4412808e+00,\n",
              "         2.0381391e+00,  3.8255474e-01, -2.5271292e+00,  2.1474907e+00,\n",
              "         7.8808081e-01,  1.2233483e+00, -3.9994283e+00,  1.7589428e+00,\n",
              "         5.2225533e+00, -1.7886893e+00, -1.9018250e+00, -3.0330033e+00],\n",
              "       [ 1.2679182e+00, -4.4859958e-01,  6.1661750e-01,  2.9259231e+00,\n",
              "        -4.5003321e-02, -5.2033229e+00, -2.1691809e+00,  7.9768479e-01,\n",
              "         1.0680712e+00, -1.2819314e+00,  2.1343535e-01,  3.4222474e+00,\n",
              "        -1.7854217e+00, -7.4896865e-02, -3.4367306e+00,  2.6179731e+00,\n",
              "         2.8496571e+00, -3.0860953e+00, -1.0053973e+00, -1.2152771e+00],\n",
              "       [ 2.5795853e-01, -1.4655749e+00,  3.3573160e-01,  9.5572293e-01,\n",
              "        -6.0722083e-01, -4.4439340e+00, -3.6841037e+00, -4.2664823e-01,\n",
              "         8.2232082e-01, -2.0810757e+00, -1.5628852e+00,  4.4125104e+00,\n",
              "        -1.9891603e-01, -1.5495172e-01, -3.4243743e+00,  2.1665699e+00,\n",
              "         1.8925864e+00, -3.5898077e+00, -4.8317406e-01, -1.3721941e+00],\n",
              "       [ 4.8444450e-01, -3.1854684e+00,  7.5991893e-01,  1.3524516e+00,\n",
              "        -2.3525317e+00, -4.2418871e+00, -2.8232086e+00,  2.3639643e+00,\n",
              "         3.2183366e+00,  2.5972521e+00, -3.2881925e+00,  9.1920167e-01,\n",
              "         5.4995936e-01,  1.5261990e-01, -4.4914021e+00,  3.2410004e+00,\n",
              "         2.5345328e+00, -2.2282641e+00, -1.6334721e+00,  1.6721381e-01],\n",
              "       [ 6.1319107e-01, -2.4934809e+00,  2.2779422e+00,  1.8682487e+00,\n",
              "        -1.5357794e+00, -4.9379902e+00, -3.4367669e+00,  1.5680038e+00,\n",
              "         3.1293867e+00, -1.1642501e+00, -1.8629074e+00,  2.3642709e+00,\n",
              "         1.4299523e+00,  9.8409951e-01, -4.7359810e+00,  3.1356339e+00,\n",
              "         3.4647238e+00, -3.7443845e+00, -2.1674428e+00, -1.8245901e+00],\n",
              "       [ 1.0175210e+00, -3.2199476e+00,  1.7642075e+00,  2.0406768e+00,\n",
              "        -2.1748211e+00, -5.7185769e+00, -3.6644003e+00,  2.5737700e+00,\n",
              "         3.1404564e+00,  6.3603252e-01, -3.8099680e+00,  3.2156200e+00,\n",
              "         2.2225107e-01,  9.7359717e-01, -5.2272182e+00,  3.7980142e+00,\n",
              "         5.6285124e+00, -4.4889255e+00, -2.6222239e+00, -1.4022882e+00],\n",
              "       [ 2.9354897e+00, -3.0144520e+00,  2.9701953e+00,  2.5384126e+00,\n",
              "        -9.8274201e-01, -6.3920770e+00, -2.4895825e+00,  3.4257126e+00,\n",
              "         3.1245162e+00, -2.0266852e+00,  2.1234870e-01,  3.6616468e+00,\n",
              "        -4.2491058e-01,  4.8454437e-01, -4.9861064e+00,  3.4974134e+00,\n",
              "         5.2588477e+00, -4.3102808e+00, -2.1919041e+00, -2.8332703e+00],\n",
              "       [ 1.3043168e+00, -2.2483740e+00,  1.8575419e+00,  2.0906742e-01,\n",
              "        -7.8630513e-01, -3.5293591e+00, -2.0331492e+00,  1.4431384e+00,\n",
              "         2.5900884e+00, -1.3015310e+00, -1.1072860e+00,  2.0706851e+00,\n",
              "        -4.6966946e-01, -2.0464419e-01, -4.4001250e+00,  3.1157501e+00,\n",
              "         3.4381449e+00, -3.0317876e+00, -2.4053490e+00, -6.1587042e-01],\n",
              "       [-5.3746283e-01, -3.2044866e+00,  2.0674081e-01,  1.9501828e+00,\n",
              "        -1.9699141e+00, -7.1604195e+00, -5.2521806e+00,  1.4857303e+00,\n",
              "         2.7628164e+00, -1.2473531e+00, -3.8414786e+00,  4.7480931e+00,\n",
              "         1.2262014e+00,  5.4958988e-02, -5.3419681e+00,  5.1078825e+00,\n",
              "         3.2771785e+00, -4.7491279e+00, -2.3532925e+00, -2.1224725e+00],\n",
              "       [ 1.8302703e+00, -2.3334076e+00,  2.3489850e+00,  1.9515349e+00,\n",
              "         9.5237412e-02, -4.7599463e+00, -1.8613223e+00,  2.4575472e+00,\n",
              "         2.7851107e+00, -2.1680851e+00, -7.0730579e-01,  3.0002048e+00,\n",
              "        -4.7443026e-01,  8.6416835e-01, -5.0120788e+00,  2.6489148e+00,\n",
              "         4.8466606e+00, -3.7452691e+00, -1.4409312e+00, -2.5000846e+00],\n",
              "       [ 1.5304036e+00, -4.2589889e+00,  2.0431702e+00,  2.4676883e+00,\n",
              "        -1.3479185e+00, -9.0564613e+00, -3.5092022e+00,  2.7564652e+00,\n",
              "         2.5888512e+00, -8.2036518e-02, -2.1787698e+00,  4.0210056e+00,\n",
              "         9.4176702e-02,  1.0254084e+00, -6.9016933e+00,  5.1730976e+00,\n",
              "         8.1013079e+00, -5.9162059e+00, -2.5305016e+00, -1.8544396e+00],\n",
              "       [ 1.0733411e+00, -2.5954533e+00,  1.6082370e+00,  3.6099315e-01,\n",
              "        -3.9539587e+00, -3.8735638e+00, -3.5899627e+00,  1.6566892e+00,\n",
              "         2.8884566e+00, -1.0438608e-01, -2.3888283e+00,  2.4536238e+00,\n",
              "         1.2420539e+00,  8.2195413e-01, -4.7394080e+00,  9.2878467e-01,\n",
              "         3.9782765e+00, -3.0235176e+00, -1.9630296e+00, -1.9930272e+00],\n",
              "       [ 9.5362675e-01, -2.2429116e+00,  1.5743301e+00,  7.2895324e-01,\n",
              "        -3.1781526e+00, -3.2266581e+00, -2.1198230e+00,  1.0591645e+00,\n",
              "         1.9720002e+00,  2.5205266e-01, -1.0611498e+00,  1.4220068e+00,\n",
              "         3.1230253e-01,  7.9307276e-01, -3.4219911e+00,  1.6155280e+00,\n",
              "         3.7049356e+00, -1.6168467e+00, -1.4377912e+00, -1.3993056e+00],\n",
              "       [ 2.6632578e+00, -6.1185489e+00,  1.6576144e+00,  1.7476207e+00,\n",
              "        -3.5835137e+00, -7.1729150e+00, -4.0082955e+00,  5.6354370e+00,\n",
              "         6.7900996e+00,  2.4110343e+00, -3.9488068e+00,  2.6394424e+00,\n",
              "         9.8409456e-01,  1.3081770e+00, -9.3742447e+00,  4.7742705e+00,\n",
              "         6.8146071e+00, -5.1171112e+00, -3.6002247e+00, -2.0729434e+00],\n",
              "       [ 3.1064458e+00, -3.8966854e+00,  4.1594963e+00,  5.0247121e+00,\n",
              "         7.2907758e-01, -1.0405355e+01, -3.2818065e+00,  4.1337452e+00,\n",
              "         3.6043646e+00, -2.5381961e+00,  2.4615727e-02,  4.6154180e+00,\n",
              "        -1.1822053e+00,  1.3300034e+00, -7.6234841e+00,  5.5657706e+00,\n",
              "         8.1478205e+00, -6.5307131e+00, -1.0561324e+00, -3.6300647e+00],\n",
              "       [ 2.7473061e+00, -4.5181236e+00,  3.2513049e+00,  2.0904546e+00,\n",
              "        -4.6283317e+00, -6.2258296e+00, -3.4392364e+00,  3.8929989e+00,\n",
              "         4.1142702e+00,  5.0497293e-01, -2.9385788e+00,  3.4146669e+00,\n",
              "         1.6285635e+00,  1.6446425e+00, -6.7002678e+00,  2.3171005e+00,\n",
              "         7.4760699e+00, -3.3140881e+00, -2.1273053e+00, -2.7868655e+00],\n",
              "       [ 5.1148218e-01, -1.8474548e+00,  1.1720212e+00,  2.1304367e+00,\n",
              "        -2.2583628e+00, -4.1485853e+00, -2.0124710e+00,  1.1518370e+00,\n",
              "         1.5219957e+00,  3.0271191e-02, -7.7208912e-01,  1.1181251e+00,\n",
              "         7.2231784e-02,  8.0021530e-01, -3.5846822e+00,  2.0624883e+00,\n",
              "         2.3743663e+00, -2.1998165e+00, -1.2780958e+00, -1.4586680e+00],\n",
              "       [ 4.1637167e-01, -1.0706849e+00,  1.3377336e+00,  1.1790911e+00,\n",
              "         2.1317389e+00, -3.7883136e+00, -1.1136526e+00,  1.0738161e+00,\n",
              "        -4.2102568e-02, -8.7102842e-01,  5.9413517e-01,  2.7994182e+00,\n",
              "        -6.4771026e-01,  2.3809996e-01, -2.1435757e+00,  2.6217840e+00,\n",
              "         2.3649027e+00, -3.8037326e+00, -4.4017923e-01, -7.2560507e-01],\n",
              "       [ 4.7972453e-01, -3.1793969e+00,  2.1734092e-01,  6.9244468e-01,\n",
              "        -2.0262663e+00, -6.6242580e+00, -3.5159173e+00, -1.7745422e-01,\n",
              "         3.4757760e-01, -3.4904170e-01, -1.2107059e-01,  4.0210123e+00,\n",
              "        -3.9753363e-02,  6.9577157e-02, -4.0929427e+00,  3.6001260e+00,\n",
              "         3.3081810e+00, -3.9425642e+00, -8.2927465e-01, -1.3480772e+00],\n",
              "       [-1.3839372e-02, -1.2123499e+00, -6.4098161e-01, -2.6123794e-02,\n",
              "        -7.9271108e-01, -1.4492275e+00, -3.7780491e-01, -5.2756947e-01,\n",
              "         5.3534442e-01, -4.9825329e-01, -2.8766662e-01,  1.3741431e+00,\n",
              "        -6.8194908e-01,  1.7200921e-02, -2.3565443e+00,  8.4414136e-01,\n",
              "         6.5328294e-01, -1.1332698e+00, -1.0210006e+00, -1.4302477e-01],\n",
              "       [-3.4704450e-01, -1.8591741e+00,  1.5924317e+00,  2.2257426e+00,\n",
              "        -6.7978317e-01, -4.4276710e+00, -3.6469958e+00,  1.2133290e+00,\n",
              "         1.6037176e+00,  1.1457014e+00, -3.2153974e+00,  2.1006205e+00,\n",
              "         5.5570918e-01,  2.2483444e-01, -3.7390306e+00,  4.2704411e+00,\n",
              "         2.9126058e+00, -2.8753824e+00, -2.0990720e+00, -3.1797865e-01],\n",
              "       [ 1.1030643e+00, -4.8795433e+00,  1.6554512e+00,  2.1583259e+00,\n",
              "        -1.9925296e+00, -7.4133539e+00, -3.9449112e+00,  2.6512117e+00,\n",
              "         2.1894879e+00,  7.7204144e-01, -3.8764529e+00,  4.4305959e+00,\n",
              "         2.5544912e-01,  6.8542755e-01, -6.4721251e+00,  3.5987115e+00,\n",
              "         6.7498178e+00, -5.3628087e+00, -2.0783012e+00, -2.0461822e+00]],\n",
              "      dtype=float32)>"
            ]
          },
          "metadata": {
            "tags": []
          },
          "execution_count": 192
        }
      ]
    },
    {
      "cell_type": "markdown",
      "metadata": {
        "id": "lKuRmxc4nYon",
        "colab_type": "text"
      },
      "source": [
        "Build the model using a pre-trained model from Tensorflow. This model contains text embeddings which is trained on English Google News (130GB corpus). \n",
        "\n",
        "\n",
        "https://tfhub.dev/google/tf2-preview/gnews-swivel-20dim/1\n",
        "\n",
        "After the model is built a summary is printed."
      ]
    },
    {
      "cell_type": "code",
      "metadata": {
        "id": "otxFP8XPm876",
        "colab_type": "code",
        "colab": {
          "base_uri": "https://localhost:8080/",
          "height": 267
        },
        "outputId": "e052a26c-3bf8-444d-cdbf-44251177ef64"
      },
      "source": [
        "model = tf.keras.Sequential()\n",
        "model.add(hub_layer)\n",
        "model.add(tf.keras.layers.Dense(16, activation='relu'))\n",
        "model.add(tf.keras.layers.Dense(1))\n",
        "\n",
        "model.summary() "
      ],
      "execution_count": 184,
      "outputs": [
        {
          "output_type": "stream",
          "text": [
            "Model: \"sequential_2\"\n",
            "_________________________________________________________________\n",
            "Layer (type)                 Output Shape              Param #   \n",
            "=================================================================\n",
            "keras_layer_14 (KerasLayer)  (None, 20)                400020    \n",
            "_________________________________________________________________\n",
            "dense_4 (Dense)              (None, 16)                336       \n",
            "_________________________________________________________________\n",
            "dense_5 (Dense)              (None, 1)                 17        \n",
            "=================================================================\n",
            "Total params: 400,373\n",
            "Trainable params: 400,373\n",
            "Non-trainable params: 0\n",
            "_________________________________________________________________\n"
          ],
          "name": "stdout"
        }
      ]
    },
    {
      "cell_type": "markdown",
      "metadata": {
        "id": "KRx8EOvEoOdE",
        "colab_type": "text"
      },
      "source": [
        "Building a loss function and optimizer for training"
      ]
    },
    {
      "cell_type": "code",
      "metadata": {
        "id": "cDjMHbKNoRaG",
        "colab_type": "code",
        "colab": {}
      },
      "source": [
        "model.compile(optimizer='adam',\n",
        "              loss=tf.keras.losses.BinaryCrossentropy(from_logits=True),\n",
        "              metrics=['accuracy'])"
      ],
      "execution_count": 185,
      "outputs": []
    },
    {
      "cell_type": "markdown",
      "metadata": {
        "id": "K154DF8ToUIR",
        "colab_type": "text"
      },
      "source": [
        "## Train the model\n",
        "\n",
        "Training the model over 20 epochs in batches of 32 using the train and validation datasets. The model's loss and accuracy will be monitored over 10,000 samples from the validation set."
      ]
    },
    {
      "cell_type": "code",
      "metadata": {
        "id": "dLep7hL2oXa1",
        "colab_type": "code",
        "colab": {}
      },
      "source": [
        "#history = model.fit(train_tfds.shuffle(10000).batch(32),epochs=20,validation_data=val_tfds.batch(32), verbose=1)\n",
        "history = model.fit([train_examples,train_labels],)"
      ],
      "execution_count": null,
      "outputs": []
    },
    {
      "cell_type": "markdown",
      "metadata": {
        "id": "yJ8HmKNGw8-d",
        "colab_type": "text"
      },
      "source": [
        "## Evaluate the model\n",
        "\n",
        "Evaluate the model performance on the test dataset."
      ]
    },
    {
      "cell_type": "markdown",
      "metadata": {
        "id": "wzNKk3lFJaat",
        "colab_type": "text"
      },
      "source": [
        "## Acknowledgements\n",
        "\n",
        "This code was written using the Tensorflow tutorial documentation as a guide"
      ]
    }
  ]
}