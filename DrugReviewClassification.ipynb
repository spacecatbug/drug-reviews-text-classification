{
  "nbformat": 4,
  "nbformat_minor": 0,
  "metadata": {
    "colab": {
      "name": "DrugReviewClassification.ipynb",
      "provenance": [],
      "collapsed_sections": [],
      "mount_file_id": "1L0vAsRRFuh_Nc1yURJ5a7aMB3xYHiObm",
      "authorship_tag": "ABX9TyMY3oiq8y0WQrdE3SjZTLL7"
    },
    "kernelspec": {
      "name": "python3",
      "display_name": "Python 3"
    }
  },
  "cells": [
    {
      "cell_type": "markdown",
      "metadata": {
        "id": "t9w1r7sT_6AV",
        "colab_type": "text"
      },
      "source": [
        "## Data Import\n",
        "\n",
        "Python libraries required: numpy, pandas and tensorflow"
      ]
    },
    {
      "cell_type": "code",
      "metadata": {
        "id": "-JOaQ9yV_31B",
        "colab_type": "code",
        "colab": {}
      },
      "source": [
        "import numpy as np\n",
        "import tensorflow as tf\n",
        "import pandas as pd\n",
        "\n",
        "!pip install tensorflow-hub\n",
        "import tensorflow_hub as hub\n",
        "import tensorflow_datasets as tfds\n",
        "\n",
        "#print(\"Version: \", tf.__version__)\n",
        "#print(\"Eager mode: \", tf.executing_eagerly())\n",
        "#print(\"Hub version: \", hub.__version__)\n",
        "#print(\"GPU is\", \"available\" if tf.config.experimental.list_physical_devices(\"GPU\") else \"NOT AVAILABLE\")"
      ],
      "execution_count": null,
      "outputs": []
    },
    {
      "cell_type": "markdown",
      "metadata": {
        "id": "cAACYqeYAHJ3",
        "colab_type": "text"
      },
      "source": [
        "If working in Google Colab, use drive.mount() to enable imports from Google Drive"
      ]
    },
    {
      "cell_type": "code",
      "metadata": {
        "id": "3SOFbetdALK4",
        "colab_type": "code",
        "colab": {}
      },
      "source": [
        "from google.colab import drive\n",
        "drive.mount('/content/drive')"
      ],
      "execution_count": null,
      "outputs": []
    },
    {
      "cell_type": "markdown",
      "metadata": {
        "id": "qma0jQoRCRsy",
        "colab_type": "text"
      },
      "source": [
        "## Data preprocessing\n",
        "Load in test and training data files"
      ]
    },
    {
      "cell_type": "code",
      "metadata": {
        "id": "TCEyP7h2CQ_b",
        "colab_type": "code",
        "colab": {}
      },
      "source": [
        "train_file = '/content/drive/My Drive/drugLib_raw/drugLibTrain_raw.tsv'\n",
        "\n",
        "\n",
        "train_df = pd.read_csv(train_file,sep='\\t')"
      ],
      "execution_count": 8,
      "outputs": []
    },
    {
      "cell_type": "markdown",
      "metadata": {
        "id": "gt4XdBDJGbUt",
        "colab_type": "text"
      },
      "source": [
        "## Initial data inspection\n",
        "\n",
        "This dataset contains 8 columns column describing drug information, patient condition, the resultant treatment, effectiveness and patient reviews. \n",
        "\n",
        "In this text classification exercise the aim is to predict the `effectiveness` from this dataset. \n",
        "\n",
        "There are 3 columns of descriptive patient review data: `benefitsReview`, `sideEffectsReview` and `commentsReview`. \n",
        "\n",
        "The data in these columns will be used for the text classification to predict the `effectiveness`.\n",
        "\n",
        "This is a publically available dataset that can be found here along with a more comprehensive description of the data:\n",
        "https://archive.ics.uci.edu/ml/datasets/Drug+Review+Dataset+%28Druglib.com%29\n"
      ]
    },
    {
      "cell_type": "code",
      "metadata": {
        "id": "hWeY9FztHKBF",
        "colab_type": "code",
        "colab": {
          "base_uri": "https://localhost:8080/",
          "height": 310
        },
        "outputId": "c26ca569-290d-47fc-cfc8-16882f9eaa5b"
      },
      "source": [
        "train_df.head()"
      ],
      "execution_count": 193,
      "outputs": [
        {
          "output_type": "execute_result",
          "data": {
            "text/html": [
              "<div>\n",
              "<style scoped>\n",
              "    .dataframe tbody tr th:only-of-type {\n",
              "        vertical-align: middle;\n",
              "    }\n",
              "\n",
              "    .dataframe tbody tr th {\n",
              "        vertical-align: top;\n",
              "    }\n",
              "\n",
              "    .dataframe thead th {\n",
              "        text-align: right;\n",
              "    }\n",
              "</style>\n",
              "<table border=\"1\" class=\"dataframe\">\n",
              "  <thead>\n",
              "    <tr style=\"text-align: right;\">\n",
              "      <th></th>\n",
              "      <th>Unnamed: 0</th>\n",
              "      <th>urlDrugName</th>\n",
              "      <th>rating</th>\n",
              "      <th>effectiveness</th>\n",
              "      <th>sideEffects</th>\n",
              "      <th>condition</th>\n",
              "      <th>benefitsReview</th>\n",
              "      <th>sideEffectsReview</th>\n",
              "      <th>commentsReview</th>\n",
              "      <th>combinedReview</th>\n",
              "      <th>label</th>\n",
              "    </tr>\n",
              "  </thead>\n",
              "  <tbody>\n",
              "    <tr>\n",
              "      <th>0</th>\n",
              "      <td>1366</td>\n",
              "      <td>biaxin</td>\n",
              "      <td>9</td>\n",
              "      <td>Considerably Effective</td>\n",
              "      <td>Mild Side Effects</td>\n",
              "      <td>sinus infection</td>\n",
              "      <td>The antibiotic may have destroyed bacteria cau...</td>\n",
              "      <td>Some back pain, some nauseau.</td>\n",
              "      <td>Took the antibiotics for 14 days. Sinus infect...</td>\n",
              "      <td>The antibiotic may have destroyed bacteria cau...</td>\n",
              "      <td>1.0</td>\n",
              "    </tr>\n",
              "    <tr>\n",
              "      <th>1</th>\n",
              "      <td>3724</td>\n",
              "      <td>lamictal</td>\n",
              "      <td>9</td>\n",
              "      <td>Highly Effective</td>\n",
              "      <td>Mild Side Effects</td>\n",
              "      <td>bipolar disorder</td>\n",
              "      <td>Lamictal stabilized my serious mood swings. On...</td>\n",
              "      <td>Drowsiness, a bit of mental numbness. If you t...</td>\n",
              "      <td>Severe mood swings between hypomania and depre...</td>\n",
              "      <td>Lamictal stabilized my serious mood swings. On...</td>\n",
              "      <td>2.0</td>\n",
              "    </tr>\n",
              "    <tr>\n",
              "      <th>2</th>\n",
              "      <td>3824</td>\n",
              "      <td>depakene</td>\n",
              "      <td>4</td>\n",
              "      <td>Moderately Effective</td>\n",
              "      <td>Severe Side Effects</td>\n",
              "      <td>bipolar disorder</td>\n",
              "      <td>Initial benefits were comparable to the brand ...</td>\n",
              "      <td>Depakene has a very thin coating, which caused...</td>\n",
              "      <td>Depakote was prescribed to me by a Kaiser psyc...</td>\n",
              "      <td>Initial benefits were comparable to the brand ...</td>\n",
              "      <td>3.0</td>\n",
              "    </tr>\n",
              "    <tr>\n",
              "      <th>3</th>\n",
              "      <td>969</td>\n",
              "      <td>sarafem</td>\n",
              "      <td>10</td>\n",
              "      <td>Highly Effective</td>\n",
              "      <td>No Side Effects</td>\n",
              "      <td>bi-polar / anxiety</td>\n",
              "      <td>It controlls my mood swings. It helps me think...</td>\n",
              "      <td>I didnt really notice any side effects.</td>\n",
              "      <td>This drug may not be for everyone but its wond...</td>\n",
              "      <td>It controlls my mood swings. It helps me think...</td>\n",
              "      <td>2.0</td>\n",
              "    </tr>\n",
              "    <tr>\n",
              "      <th>4</th>\n",
              "      <td>696</td>\n",
              "      <td>accutane</td>\n",
              "      <td>10</td>\n",
              "      <td>Highly Effective</td>\n",
              "      <td>Mild Side Effects</td>\n",
              "      <td>nodular acne</td>\n",
              "      <td>Within one week of treatment superficial acne ...</td>\n",
              "      <td>Side effects included moderate to severe dry s...</td>\n",
              "      <td>Drug was taken in gelatin tablet at 0.5 mg per...</td>\n",
              "      <td>Within one week of treatment superficial acne ...</td>\n",
              "      <td>2.0</td>\n",
              "    </tr>\n",
              "  </tbody>\n",
              "</table>\n",
              "</div>"
            ],
            "text/plain": [
              "   Unnamed: 0  ... label\n",
              "0        1366  ...   1.0\n",
              "1        3724  ...   2.0\n",
              "2        3824  ...   3.0\n",
              "3         969  ...   2.0\n",
              "4         696  ...   2.0\n",
              "\n",
              "[5 rows x 11 columns]"
            ]
          },
          "metadata": {
            "tags": []
          },
          "execution_count": 193
        }
      ]
    },
    {
      "cell_type": "markdown",
      "metadata": {
        "id": "ai4AlIbmCxH3",
        "colab_type": "text"
      },
      "source": [
        "The train and test data is currently in tab delimited format and will be converted into Pandas Dataframes. \n",
        "\n",
        "An additional column `combinedReview` has been added which contains all the review data from the 3 columns, concatenated.\n",
        "\n",
        "Another additional column `label` has been included in these Dataframes that assigns classification labels `effectiveness` as integer values so that they can be read later by the model."
      ]
    },
    {
      "cell_type": "code",
      "metadata": {
        "id": "5E9mobvQCwxY",
        "colab_type": "code",
        "colab": {}
      },
      "source": [
        "test_file = '/content/drive/My Drive/drugLib_raw/drugLibTest_raw.tsv'\n",
        "labels_dict = {}\n",
        "for count,label in enumerate(train_df[\"effectiveness\"].unique()):\n",
        "  labels_dict[label] = count+1\n",
        "\n",
        "def tsv2df(filename):\n",
        "  df = pd.read_csv(filename,sep='\\t')\n",
        "  df[\"combinedReview\"] = np.nan\n",
        "  df[\"label\"] = np.nan\n",
        "  for row in df.itertuples():\n",
        "    drug_review = \"\"\n",
        "    benefitsReview = df.loc[row.Index,[\"benefitsReview\"]].values[0]\n",
        "    sideEffectsReview = df.loc[row.Index,[\"sideEffectsReview\"]].values[0]\n",
        "    commentsReview = df.loc[row.Index,[\"commentsReview\"]].values[0]\n",
        "    # concatenate review data from all 3 columns into a new column\n",
        "    reviews = [benefitsReview, sideEffectsReview,commentsReview]\n",
        "    for review in reviews:\n",
        "      if pd.isnull(review):\n",
        "        continue\n",
        "      drug_review += review +\" \"\n",
        "    if drug_review.strip() == \"\":\n",
        "      continue\n",
        "    df.loc[row.Index,[\"combinedReview\"]] = drug_review\n",
        "    # Use integers to define classification labels\n",
        "    df.loc[row.Index,[\"label\"]] = labels_dict[train_df.loc[row.Index,[\"effectiveness\"]].values[0]]\n",
        "  return df\n",
        "\n",
        "train_df = tsv2df(train_file)\n",
        "test_df = tsv2df(test_file)"
      ],
      "execution_count": 142,
      "outputs": []
    },
    {
      "cell_type": "markdown",
      "metadata": {
        "id": "dKiLnwJhkB4m",
        "colab_type": "text"
      },
      "source": [
        "Convert train and test dataframes into Tensorflow datasets. Split the full train dataset into validation and test sets"
      ]
    },
    {
      "cell_type": "code",
      "metadata": {
        "id": "HSalX_3gkHrE",
        "colab_type": "code",
        "colab": {}
      },
      "source": [
        "# A utility method to create a tf.data dataset from a Pandas Dataframe\n",
        "def df_to_dataset(dataframe, shuffle=True, batch_size=32):\n",
        "  dataframe = dataframe.copy()\n",
        "  labels = dataframe.pop('label')\n",
        "  ds = tf.data.Dataset.from_tensor_slices((dict(dataframe), labels))\n",
        "  if shuffle:\n",
        "    ds = ds.shuffle(buffer_size=len(dataframe))\n",
        "  ds = ds.batch(batch_size)\n",
        "  return ds\n",
        "\n",
        "full_train_tfds = df_to_dataset(train_df)\n",
        "test_tfds = df_to_dataset(test_df)\n",
        "\n",
        "full_train_tfds.shuffle(32)\n",
        "def is_val(x, y):\n",
        "    return x % 4 == 0\n",
        "\n",
        "def is_train(x, y):\n",
        "    return not is_val(x, y)\n",
        "\n",
        "recover = lambda x,y: y\n",
        "\n",
        "val_tfds = full_train_tfds.enumerate() \\\n",
        "                    .filter(is_val) \\\n",
        "                    .map(recover)\n",
        "\n",
        "train_tfds = full_train_tfds.enumerate() \\\n",
        "                    .filter(is_train) \\\n",
        "                    .map(recover)"
      ],
      "execution_count": 190,
      "outputs": []
    },
    {
      "cell_type": "markdown",
      "metadata": {
        "id": "Ez6vJCYclOem",
        "colab_type": "text"
      },
      "source": [
        "Optional: Run the lines of code below you would like to view examples of the features and labels created in the Tensorflow Dataset for one batch of data"
      ]
    },
    {
      "cell_type": "code",
      "metadata": {
        "id": "EjdC89Ymk1e3",
        "colab_type": "code",
        "colab": {}
      },
      "source": [
        "for feature_batch, label_batch in train_tfds.take(1):\n",
        "  print('Every feature:', list(feature_batch.keys()))\n",
        "  print('A batch of combinedReviews:', feature_batch['combinedReview'])\n",
        "  print('A batch of targets:', label_batch )"
      ],
      "execution_count": null,
      "outputs": []
    },
    {
      "cell_type": "markdown",
      "metadata": {
        "id": "bQw9JUedmfnV",
        "colab_type": "text"
      },
      "source": [
        "## Build the model\n",
        "\n",
        "Creating a Keras layer using a pre-trained model from TensorFlow Hub to convert the `combined reviews` into embeddings. The embedding converts each `combined review` into a 20 dimension array (despite the length and contents of the review). An example of a sentence embedding is printed here."
      ]
    },
    {
      "cell_type": "code",
      "metadata": {
        "id": "m5wE_3UiJtc4",
        "colab_type": "code",
        "colab": {
          "base_uri": "https://localhost:8080/",
          "height": 251
        },
        "outputId": "5f8e7deb-6f25-4d34-da67-5bdf5b662996"
      },
      "source": [
        "embedding = \"https://tfhub.dev/google/tf2-preview/gnews-swivel-20dim/1\"\n",
        "hub_layer = hub.KerasLayer(embedding, input_shape=[], \n",
        "                           dtype=tf.string, trainable=True)\n",
        "a = hub_layer(feature_batch['combinedReview'])\n",
        "# Prints one 20 dimensional embedding array \n",
        "a[0]\n"
      ],
      "execution_count": 201,
      "outputs": [
        {
          "output_type": "stream",
          "text": [
            "WARNING:tensorflow:11 out of the last 11 calls to <function recreate_function.<locals>.restored_function_body at 0x7fd9274ff730> triggered tf.function retracing. Tracing is expensive and the excessive number of tracings could be due to (1) creating @tf.function repeatedly in a loop, (2) passing tensors with different shapes, (3) passing Python objects instead of tensors. For (1), please define your @tf.function outside of the loop. For (2), @tf.function has experimental_relax_shapes=True option that relaxes argument shapes that can avoid unnecessary retracing. For (3), please refer to https://www.tensorflow.org/tutorials/customization/performance#python_or_tensor_args and https://www.tensorflow.org/api_docs/python/tf/function for  more details.\n"
          ],
          "name": "stdout"
        },
        {
          "output_type": "stream",
          "text": [
            "WARNING:tensorflow:11 out of the last 11 calls to <function recreate_function.<locals>.restored_function_body at 0x7fd9274ff730> triggered tf.function retracing. Tracing is expensive and the excessive number of tracings could be due to (1) creating @tf.function repeatedly in a loop, (2) passing tensors with different shapes, (3) passing Python objects instead of tensors. For (1), please define your @tf.function outside of the loop. For (2), @tf.function has experimental_relax_shapes=True option that relaxes argument shapes that can avoid unnecessary retracing. For (3), please refer to https://www.tensorflow.org/tutorials/customization/performance#python_or_tensor_args and https://www.tensorflow.org/api_docs/python/tf/function for  more details.\n"
          ],
          "name": "stderr"
        },
        {
          "output_type": "stream",
          "text": [
            "WARNING:tensorflow:11 out of the last 11 calls to <function recreate_function.<locals>.restored_function_body at 0x7fd9270c97b8> triggered tf.function retracing. Tracing is expensive and the excessive number of tracings could be due to (1) creating @tf.function repeatedly in a loop, (2) passing tensors with different shapes, (3) passing Python objects instead of tensors. For (1), please define your @tf.function outside of the loop. For (2), @tf.function has experimental_relax_shapes=True option that relaxes argument shapes that can avoid unnecessary retracing. For (3), please refer to https://www.tensorflow.org/tutorials/customization/performance#python_or_tensor_args and https://www.tensorflow.org/api_docs/python/tf/function for  more details.\n"
          ],
          "name": "stdout"
        },
        {
          "output_type": "stream",
          "text": [
            "WARNING:tensorflow:11 out of the last 11 calls to <function recreate_function.<locals>.restored_function_body at 0x7fd9270c97b8> triggered tf.function retracing. Tracing is expensive and the excessive number of tracings could be due to (1) creating @tf.function repeatedly in a loop, (2) passing tensors with different shapes, (3) passing Python objects instead of tensors. For (1), please define your @tf.function outside of the loop. For (2), @tf.function has experimental_relax_shapes=True option that relaxes argument shapes that can avoid unnecessary retracing. For (3), please refer to https://www.tensorflow.org/tutorials/customization/performance#python_or_tensor_args and https://www.tensorflow.org/api_docs/python/tf/function for  more details.\n"
          ],
          "name": "stderr"
        },
        {
          "output_type": "stream",
          "text": [
            "WARNING:tensorflow:11 out of the last 11 calls to <function recreate_function.<locals>.restored_function_body at 0x7fd9275e3488> triggered tf.function retracing. Tracing is expensive and the excessive number of tracings could be due to (1) creating @tf.function repeatedly in a loop, (2) passing tensors with different shapes, (3) passing Python objects instead of tensors. For (1), please define your @tf.function outside of the loop. For (2), @tf.function has experimental_relax_shapes=True option that relaxes argument shapes that can avoid unnecessary retracing. For (3), please refer to https://www.tensorflow.org/tutorials/customization/performance#python_or_tensor_args and https://www.tensorflow.org/api_docs/python/tf/function for  more details.\n"
          ],
          "name": "stdout"
        },
        {
          "output_type": "stream",
          "text": [
            "WARNING:tensorflow:11 out of the last 11 calls to <function recreate_function.<locals>.restored_function_body at 0x7fd9275e3488> triggered tf.function retracing. Tracing is expensive and the excessive number of tracings could be due to (1) creating @tf.function repeatedly in a loop, (2) passing tensors with different shapes, (3) passing Python objects instead of tensors. For (1), please define your @tf.function outside of the loop. For (2), @tf.function has experimental_relax_shapes=True option that relaxes argument shapes that can avoid unnecessary retracing. For (3), please refer to https://www.tensorflow.org/tutorials/customization/performance#python_or_tensor_args and https://www.tensorflow.org/api_docs/python/tf/function for  more details.\n"
          ],
          "name": "stderr"
        },
        {
          "output_type": "execute_result",
          "data": {
            "text/plain": [
              "<tf.Tensor: shape=(20,), dtype=float32, numpy=\n",
              "array([ 3.9738226, -2.4324079,  1.7600758,  1.7758725, -4.506548 ,\n",
              "       -4.833144 , -3.5563126,  4.78504  ,  4.196502 , -0.4463017,\n",
              "       -3.0088549,  4.280519 ,  0.5396668,  0.6327668, -6.863371 ,\n",
              "        2.5921571,  5.555472 , -3.1780574, -3.8864355, -2.6467786],\n",
              "      dtype=float32)>"
            ]
          },
          "metadata": {
            "tags": []
          },
          "execution_count": 201
        }
      ]
    },
    {
      "cell_type": "markdown",
      "metadata": {
        "id": "lKuRmxc4nYon",
        "colab_type": "text"
      },
      "source": [
        "Build the model using a pre-trained model from Tensorflow. This model contains text embeddings which is trained on English Google News (130GB corpus). \n",
        "\n",
        "\n",
        "https://tfhub.dev/google/tf2-preview/gnews-swivel-20dim/1\n",
        "\n",
        "After the model is built a summary is printed."
      ]
    },
    {
      "cell_type": "code",
      "metadata": {
        "id": "otxFP8XPm876",
        "colab_type": "code",
        "colab": {
          "base_uri": "https://localhost:8080/",
          "height": 267
        },
        "outputId": "e052a26c-3bf8-444d-cdbf-44251177ef64"
      },
      "source": [
        "model = tf.keras.Sequential()\n",
        "model.add(hub_layer)\n",
        "model.add(tf.keras.layers.Dense(16, activation='relu'))\n",
        "model.add(tf.keras.layers.Dense(1))\n",
        "\n",
        "model.summary() "
      ],
      "execution_count": 184,
      "outputs": [
        {
          "output_type": "stream",
          "text": [
            "Model: \"sequential_2\"\n",
            "_________________________________________________________________\n",
            "Layer (type)                 Output Shape              Param #   \n",
            "=================================================================\n",
            "keras_layer_14 (KerasLayer)  (None, 20)                400020    \n",
            "_________________________________________________________________\n",
            "dense_4 (Dense)              (None, 16)                336       \n",
            "_________________________________________________________________\n",
            "dense_5 (Dense)              (None, 1)                 17        \n",
            "=================================================================\n",
            "Total params: 400,373\n",
            "Trainable params: 400,373\n",
            "Non-trainable params: 0\n",
            "_________________________________________________________________\n"
          ],
          "name": "stdout"
        }
      ]
    },
    {
      "cell_type": "markdown",
      "metadata": {
        "id": "KRx8EOvEoOdE",
        "colab_type": "text"
      },
      "source": [
        "Building a loss function and optimizer for training"
      ]
    },
    {
      "cell_type": "code",
      "metadata": {
        "id": "cDjMHbKNoRaG",
        "colab_type": "code",
        "colab": {}
      },
      "source": [
        "model.compile(optimizer='adam',\n",
        "              loss=tf.keras.losses.BinaryCrossentropy(from_logits=True),\n",
        "              metrics=['accuracy'])"
      ],
      "execution_count": 185,
      "outputs": []
    },
    {
      "cell_type": "markdown",
      "metadata": {
        "id": "K154DF8ToUIR",
        "colab_type": "text"
      },
      "source": [
        "## Train the model\n",
        "\n",
        "Training the model over 20 epochs in batches of 32 using the train and validation datasets. The model's loss and accuracy will be monitored over 10,000 samples from the validation set."
      ]
    },
    {
      "cell_type": "code",
      "metadata": {
        "id": "dLep7hL2oXa1",
        "colab_type": "code",
        "colab": {}
      },
      "source": [
        "#history = model.fit(train_tfds.shuffle(10000).batch(32),epochs=20,validation_data=val_tfds.batch(32), verbose=1)\n",
        "history = model.fit([train_examples,train_labels],)"
      ],
      "execution_count": null,
      "outputs": []
    },
    {
      "cell_type": "markdown",
      "metadata": {
        "id": "yJ8HmKNGw8-d",
        "colab_type": "text"
      },
      "source": [
        "## Evaluate the model\n",
        "\n",
        "Evaluate the model performance on the test dataset."
      ]
    },
    {
      "cell_type": "markdown",
      "metadata": {
        "id": "wzNKk3lFJaat",
        "colab_type": "text"
      },
      "source": [
        "## Acknowledgements\n",
        "\n",
        "This code was written using the Tensorflow tutorial documentation as a guide"
      ]
    }
  ]
}